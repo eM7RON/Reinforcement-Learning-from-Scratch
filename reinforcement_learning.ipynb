{
 "cells": [
  {
   "cell_type": "markdown",
   "metadata": {},
   "source": [
    "<H2 style=\"text-align: center\">Reinforcement Learning</H2>"
   ]
  },
  {
   "cell_type": "code",
   "execution_count": 94,
   "metadata": {},
   "outputs": [
    {
     "name": "stdout",
     "output_type": "stream",
     "text": [
      "3.6.7 |Anaconda, Inc.| (default, Dec 10 2018, 20:35:02) [MSC v.1915 64 bit (AMD64)]\n",
      "# packages in environment at C:\\Anaconda3\\envs\\ML:\n",
      "#\n",
      "# Name                    Version                   Build  Channel\n",
      "backcall                  0.1.0                    py36_0  \n",
      "blas                      1.0                         mkl  \n",
      "ca-certificates           2019.1.23                     0  \n",
      "certifi                   2018.11.29               py36_0  \n",
      "colorama                  0.4.1                    py36_0  \n",
      "cycler                    0.10.0           py36h009560c_0  \n",
      "decorator                 4.3.0                    py36_0  \n",
      "freetype                  2.9.1                ha9979f8_1  \n",
      "icc_rt                    2019.0.0             h0cc432a_1  \n",
      "icu                       58.2                 ha66f8fd_1  \n",
      "intel-openmp              2019.1                      144  \n",
      "ipykernel                 5.1.0            py36h39e3cac_0  \n",
      "ipython                   7.2.0            py36h39e3cac_0  \n",
      "ipython_genutils          0.2.0            py36h3c5d0ee_0  \n",
      "jedi                      0.13.2                   py36_0  \n",
      "jpeg                      9b                   hb83a4c4_2  \n",
      "jupyter_client            5.2.4                    py36_0  \n",
      "jupyter_core              4.4.0                    py36_0  \n",
      "kiwisolver                1.0.1            py36h6538335_0  \n",
      "libpng                    1.6.36               h2a8f88b_0  \n",
      "libsodium                 1.0.16               h9d3ae62_0  \n",
      "matplotlib                3.0.2            py36hc8f65d3_0  \n",
      "mkl                       2019.1                      144  \n",
      "mkl_fft                   1.0.10           py36h14836fe_0  \n",
      "mkl_random                1.0.2            py36h343c172_0  \n",
      "numpy                     1.15.4           py36h19fb1c0_0  \n",
      "numpy-base                1.15.4           py36hc3f5095_0  \n",
      "openssl                   1.1.1a               he774522_0  \n",
      "pandas                    0.24.0           py36ha925a31_0  \n",
      "parso                     0.3.1                    py36_0  \n",
      "patsy                     0.5.1                    py36_0  \n",
      "pickleshare               0.7.5                    py36_0  \n",
      "pip                       18.1                     py36_0  \n",
      "prompt_toolkit            2.0.7                    py36_0  \n",
      "pygments                  2.3.1                    py36_0  \n",
      "pyparsing                 2.3.1                    py36_0  \n",
      "pyqt                      5.9.2            py36h6538335_2  \n",
      "python                    3.6.8                h9f7ef89_0  \n",
      "python-dateutil           2.7.5                    py36_0  \n",
      "pytz                      2018.9                   py36_0  \n",
      "pyzmq                     17.1.2           py36hfa6e2cd_0  \n",
      "qt                        5.9.7            vc14h73c81de_0  \n",
      "scikit-learn              0.20.2           py36h343c172_0  \n",
      "scipy                     1.2.0            py36h29ff71c_0  \n",
      "seaborn                   0.9.0                    py36_0  \n",
      "setuptools                40.6.3                   py36_0  \n",
      "sip                       4.19.8           py36h6538335_0  \n",
      "six                       1.12.0                   py36_0  \n",
      "sqlite                    3.26.0               he774522_0  \n",
      "statsmodels               0.9.0            py36h452e1ab_0  \n",
      "tornado                   5.1.1            py36hfa6e2cd_0  \n",
      "tqdm                      4.31.1                     py_0  \n",
      "traitlets                 4.3.2            py36h096827d_0  \n",
      "vc                        14.1                 h0510ff6_4  \n",
      "vs2015_runtime            14.15.26706          h3a45250_0  \n",
      "wcwidth                   0.1.7            py36h3d5aa90_0  \n",
      "wheel                     0.32.3                   py36_0  \n",
      "wincertstore              0.2              py36h7fe50ca_0  \n",
      "zeromq                    4.2.5                he025d50_1  \n",
      "zlib                      1.2.11               h62dcd97_3  \n"
     ]
    }
   ],
   "source": [
    "print(__import__('sys').version)\n",
    "!conda list -n ML"
   ]
  },
  {
   "cell_type": "code",
   "execution_count": 1,
   "metadata": {},
   "outputs": [
    {
     "name": "stdout",
     "output_type": "stream",
     "text": [
      "Using matplotlib backend: Qt5Agg\n",
      "Populating the interactive namespace from numpy and matplotlib\n"
     ]
    }
   ],
   "source": [
    "%pylab\n",
    "from tqdm import tqdm"
   ]
  },
  {
   "cell_type": "markdown",
   "metadata": {},
   "source": [
    "\n",
    "# Gridworld example\n",
    "\n",
    "The following code will provide you with a working gridworld problem. You are asked to study the code and use it to provide a solution in the following questions. \n"
   ]
  },
  {
   "cell_type": "code",
   "execution_count": 2,
   "metadata": {},
   "outputs": [],
   "source": [
    "class GridWorld: \n",
    "    '''\n",
    "    Class implementing a typical GridWorld problem. \n",
    "    \n",
    "    '''\n",
    "    \n",
    "    \n",
    "    def __init__(self, width, height, gamma=1, penalty=-1, start=[0,0], goal=[0,0], cliff=[], cliff_penalty=-10, **kwargs):\n",
    "        '''\n",
    "        Generates a new Gridworld problem, with a grid of size (width, height). \n",
    "        gamma: reward discount parameter (default:1)\n",
    "        penalty: penalty for each move (default:-1)\n",
    "        start: start location (default: [0, 0])\n",
    "        goal: goal location (default: [0, 0])\n",
    "        cliff: list of locations defined as cliff (the agent incurs a large penalty for\n",
    "               walking into cliffs and is transported back to the start). \n",
    "        cliff_penalty: penalty incurred for walking into a cliff (default: -100). \n",
    "        '''\n",
    "\n",
    "        self.n_actions = 4\n",
    "        self.n_states = width *  height\n",
    "        self.name = kwargs.get('name', 'Grid World')\n",
    "        self.actions = range(self.n_actions)\n",
    "        self.states = range(self.n_states)\n",
    "        self.width = width\n",
    "        self.height = height\n",
    "        self.gamma = gamma\n",
    "        self.delta = np.array([[0, -1], [+1, 0], [0, +1], [-1, 0]])\n",
    "        self.actions_labels = ['up', 'right', 'down', 'left']\n",
    "        \n",
    "        # set the start state\n",
    "        self.start = self.encode_state(start)     \n",
    "\n",
    "        self.cliff = [self.encode_state(s) for s in cliff]\n",
    "        self.goal = self.encode_state(goal)\n",
    "        self.penalty = penalty\n",
    "        self.cliff_penalty = cliff_penalty\n",
    "        self.grid = np.zeros((height, width))\n",
    "        for c in range(width): \n",
    "            for r in range(height): \n",
    "                if [c, r] == goal: \n",
    "                    self.grid[r, c] = 1\n",
    "                elif [c, r] in cliff: \n",
    "                    self.grid[r, c] = 2\n",
    "                elif [c, r] == start: \n",
    "                    self.grid[r, c] = 3\n",
    "        \n",
    "    def line_string(self):\n",
    "        s = '+'\n",
    "        for j in range(self.width):\n",
    "            s += '-+'\n",
    "        s += '\\n'\n",
    "        return s\n",
    "        \n",
    "    def tostring(self): \n",
    "        '''\n",
    "            Converts the grid world to a formatted string. \n",
    "        '''\n",
    "        s = '   %s:\\n' % self.name\n",
    "        for r in range(self.height): \n",
    "            s += self.line_string()\n",
    "            s += '|'\n",
    "            for c in range(self.width):                 \n",
    "                if self.grid[r, c] == 1: \n",
    "                    s += 'G'\n",
    "                elif self.grid[r, c] == 2: \n",
    "                    s += 'X'\n",
    "                elif self.grid[r, c] == 3:\n",
    "                    s += 'S'\n",
    "                else: \n",
    "                    s += ' '\n",
    "                s += '|'\n",
    "            s += '\\n'\n",
    "            \n",
    "        s += self.line_string()\n",
    "        return s    \n",
    "    \n",
    "    def print_solution(self, S): \n",
    "        '''\n",
    "        Graphical display of a solution S, given as a list of states that brings\n",
    "        from the initial state to the goal. \n",
    "        '''\n",
    "        s = 'Solution: %s\\n' % self.name\n",
    "        for r in range(self.height): \n",
    "            s += self.line_string()\n",
    "            s += '|'\n",
    "            for c in range(self.width):                 \n",
    "                p = self.encode_state((c, r))                \n",
    "                \n",
    "                if self.grid[r, c] == 1: \n",
    "                    s += 'G'\n",
    "                elif self.grid[r, c] == 3:\n",
    "                    s += 'S'\n",
    "                elif p in S:\n",
    "                    if p == S[-1]:\n",
    "                        s += '@'\n",
    "                    else:\n",
    "                        s += '*'\n",
    "                elif self.grid[r, c] == 2: \n",
    "                    s += 'X'\n",
    "                else: \n",
    "                    s += ' '\n",
    "                s += '|'\n",
    "            s += '\\n'\n",
    "            \n",
    "        s += self.line_string()\n",
    "        return s \n",
    "    \n",
    "    def show_states(self):\n",
    "        '''\n",
    "        Displays state IDs on a grid. \n",
    "        '''\n",
    "        print(array(self.states).reshape((self.width, self.height)).T)\n",
    "    \n",
    "    def encode_state(self, coord):\n",
    "        '''\n",
    "        Converts a tuple (c, r) containing grid coordinates to the corresponding (scalar) state ID. \n",
    "        '''\n",
    "        (c, r) = coord\n",
    "        if r < self.height and c < self.width and r >= 0 and c >= 0: \n",
    "            return int(c * self.height + r)\n",
    "        else: \n",
    "            return -1\n",
    "    \n",
    "    def decode_state(self, s): \n",
    "        '''\n",
    "        Converts a state ID into grid coordinates. \n",
    "        '''\n",
    "        return s // self.height, s % self.height\n",
    "        \n",
    "    def state_action_state(self, s, a): \n",
    "        '''\n",
    "        Generates the next state and associated reward for a state/action pair. \n",
    "        '''\n",
    "        ns = self.encode_state(self.decode_state(s) + self.delta[a, :])\n",
    "        \n",
    "        if ns in self.cliff: \n",
    "            return [(self.start, self.cliff_penalty)]\n",
    "        \n",
    "        # if an invalid state is generated, stay where we are\n",
    "        elif ns < 0: \n",
    "            return [(s, self.penalty)]\n",
    "        \n",
    "        # if the goal is reached, no penalty incurred. \n",
    "        elif ns == self.goal: \n",
    "            return [(ns, 0)]\n",
    "        \n",
    "        else: \n",
    "            return [(ns, self.penalty)]\n",
    "        \n",
    "    def state_transition(self, s): \n",
    "        '''\n",
    "        Generates lists of all possible action/next state/reward triplets for the current state. \n",
    "        Returns a triplet of lists (sv, pv, rv), with one element per action, where: \n",
    "        sv[a] is the next state following the action a.\n",
    "        pv[a] is the likelihood to select action a (policy). \n",
    "        rv[a] is the immediate reward of selecting action a. \n",
    "        '''\n",
    "        \n",
    "        sv = np.zeros(self.n_actions, dtype='uint')\n",
    "        rv = np.zeros(self.n_actions)\n",
    "        \n",
    "        # cannot move away from goal\n",
    "        if s == self.goal:\n",
    "            return s, 0\n",
    "        \n",
    "        # every action on a cliff returns to start\n",
    "        if s in self.cliff:\n",
    "            return self.start, self.cliff_penalty\n",
    "        \n",
    "        for a in self.actions: \n",
    "            s2, r2 = self.state_action_state(s, a)[0]\n",
    "            sv[a] = s2\n",
    "            rv[a] = r2\n",
    "        \n",
    "        return sv, rv"
   ]
  },
  {
   "cell_type": "markdown",
   "metadata": {},
   "source": [
    "## 1. Policy evaluation\n",
    "\n",
    "One simple way to solve a reinforcement learning problem is to estimate the value function for the whole problem and then apply a greedy strategy to find the goal. In the first part you are asked to evaluate the value function V(s) for all states (ie, grid cells), using <b>policy iteration</b>, as discussed in class. \n",
    "Iterative policy evaluation proposes an update of the value function based on the recursive formulation of the <i>Bellman equation</i>: \n",
    "\n",
    "$$\n",
    "V^{(t+1)}(S_t) \\leftarrow \\sum_{S_{t+1},R_{t+1}} p\\left[S_{t+1},R_{t+1}|S_t,\\pi(S_t)\\right] \\left(R_{t+1}+\\gamma V^{t}(S_{t+1})\\right)\n",
    "$$\n",
    "\n",
    "In this part, we will:\n",
    "\n",
    "a. Estimate the value of V(s) using policy iteration. Each step of policy iteration will take as parameter the problem to be solved (which will provide the required functions) and the current estimate of the value function (as an array with length equal to the grid size). \n",
    "<div style=\"text-align: right\">\n",
    "\n",
    "b. Print out the estimated value function after 1,2,5 and 10 iterations. \n",
    "<div style=\"text-align: right\">\n",
    "\n",
    "c. Provide a solution using a greedy strategy and the estimated value function. Print it out using the print_solution() method. \n",
    "<div style=\"text-align: right\">"
   ]
  },
  {
   "cell_type": "code",
   "execution_count": 3,
   "metadata": {},
   "outputs": [
    {
     "name": "stdout",
     "output_type": "stream",
     "text": [
      "   level 1:\n",
      "+-+-+-+-+-+-+\n",
      "|S| | | | | |\n",
      "+-+-+-+-+-+-+\n",
      "| | | | | | |\n",
      "+-+-+-+-+-+-+\n",
      "| | | | | | |\n",
      "+-+-+-+-+-+-+\n",
      "| | | | | |G|\n",
      "+-+-+-+-+-+-+\n",
      "\n",
      "   level 2:\n",
      "+-+-+-+-+-+-+\n",
      "| | | | | | |\n",
      "+-+-+-+-+-+-+\n",
      "| | | | | | |\n",
      "+-+-+-+-+-+-+\n",
      "| | | | | | |\n",
      "+-+-+-+-+-+-+\n",
      "|S|X|X|X|X|G|\n",
      "+-+-+-+-+-+-+\n",
      "\n",
      "   level 3:\n",
      "+-+-+-+-+-+-+\n",
      "|S|X| | | |X|\n",
      "+-+-+-+-+-+-+\n",
      "| |X| |X| |X|\n",
      "+-+-+-+-+-+-+\n",
      "| |X| |X| |X|\n",
      "+-+-+-+-+-+-+\n",
      "| | | |X| |G|\n",
      "+-+-+-+-+-+-+\n",
      "\n"
     ]
    }
   ],
   "source": [
    "level1 = GridWorld(6, 4, gamma=0.9, goal=[5, 3], start=[0, 0], cliff=[], name='level 1')\n",
    "\n",
    "level2 = GridWorld(6, 4, gamma=0.9, goal=[5, 3], start=[0, 3],\n",
    "                   cliff=[[1, 3], [2, 3], [3, 3], [4, 3]], name='level 2', cliff_penalty=-100)\n",
    "\n",
    "level3 = GridWorld(6, 4, gamma=0.9, goal=[5, 3], start=[0, 0],\n",
    "                   cliff=[[1, 0], [1, 1], [1, 2],\n",
    "                          [3, 3], [3, 2], [3, 1],\n",
    "                          [5, 0], [5, 1], [5, 2]], name='level 3')\n",
    "\n",
    "print(level1.tostring())\n",
    "print(level2.tostring())\n",
    "print(level3.tostring())"
   ]
  },
  {
   "cell_type": "code",
   "execution_count": 4,
   "metadata": {},
   "outputs": [],
   "source": [
    "def decode_policy(env, policy, max_iter=50):\n",
    "    '''\n",
    "    A function to produce a path of states, from starting position to end\n",
    "    position of the input environment, using the input policy. The function\n",
    "    will converge to end goal if policy is valid else it will exit after max\n",
    "    iterations are reached.\n",
    "    \n",
    "    '''\n",
    "    policy = argmax(policy, axis=1)\n",
    "    state = env.start\n",
    "    path = [state]\n",
    "    performance = 0\n",
    "    \n",
    "    for _ in range(max_iter):\n",
    "        action = policy[state]\n",
    "        state, reward = env.state_action_state(state, action)[0]\n",
    "        performance += reward\n",
    "        path.append(state)\n",
    "        \n",
    "        if state == env.goal:\n",
    "            break\n",
    "            \n",
    "    return array(path).astype(int), performance\n",
    "\n",
    "\n",
    "def policy_improvement(env, policy, V, gamma):\n",
    "    policy_stable = True\n",
    "\n",
    "    for s in env.states:\n",
    "        current_action = argmax(policy[s])\n",
    "        next_states, rewards = env.state_transition(s)\n",
    "        action_values = rewards + gamma * V[next_states]\n",
    "        next_action = argmax(action_values)\n",
    "\n",
    "        if current_action != next_action:\n",
    "            policy_stable = False\n",
    "\n",
    "        policy[s] = eye(env.n_actions)[next_action]\n",
    "\n",
    "    return policy, policy_stable\n",
    "\n",
    "\n",
    "def policy_evaluation(env, policy, gamma=0.9, epsilon=1e-5):\n",
    "    V = zeros(env.n_states)\n",
    "    while 1:\n",
    "        delta = 0\n",
    "        for s in env.states:\n",
    "            next_states, rewards = env.state_transition(s)\n",
    "            v = sum(policy[s] * (rewards + gamma * V[next_states]))\n",
    "            delta = max(delta, abs(v - V[s]))\n",
    "            V[s] = v\n",
    "        if delta < epsilon:\n",
    "            break\n",
    "    return V\n",
    "\n",
    "def policy_iteration(\n",
    "                     env, \n",
    "                     policy_evaluation=policy_evaluation,\n",
    "                     policy_improvement=policy_improvement, \n",
    "                     **kwargs,\n",
    "                     ):\n",
    "    '''\n",
    "    Policy iteration as described in Reinforcement Learning: an Introduction. Richard S.\n",
    "    Sutton and Andrew G. Barto, MIT press, 1998.\n",
    "    \n",
    "    '''\n",
    "\n",
    "    gamma = kwargs.get('gamma', 0.90)\n",
    "    policy = kwargs.get('policy', ones([env.n_states, env.n_actions]) / env.n_actions)\n",
    "    max_iter = kwargs.get('max_iter', None)\n",
    "    output_iter = kwargs.get('output_iter', [1, 2, 5, 10])\n",
    "    \n",
    "    k = 1\n",
    "    \n",
    "    V = zeros(env.n_states)\n",
    "    \n",
    "    while 1:\n",
    "        \n",
    "        # Evaluate the current policy\n",
    "        V = policy_evaluation(env, policy, gamma)\n",
    "        policy, policy_stable = policy_improvement(env, policy, V, gamma)\n",
    "\n",
    "        if max_iter and k in output_iter:\n",
    "            print('Value function for k=%d\\n' % k,\n",
    "                  V.reshape(env.height, env.width, order='F').round(0),\n",
    "                  '\\n')\n",
    "\n",
    "        # check max iter reached or algo. converged\n",
    "        if max_iter:\n",
    "            if k > max_iter:\n",
    "                break\n",
    "\n",
    "            k += 1\n",
    "\n",
    "        elif policy_stable:\n",
    "            break\n",
    "\n",
    "    return policy.astype(int)"
   ]
  },
  {
   "cell_type": "markdown",
   "metadata": {},
   "source": [
    "I have implemented an in-place version of the algorithm which also assumes that each action has an equal probability and is greedy. I made some minor adjustments to the state_transition method of the GridWorld in order to return a set of states and actions if the agent finds itself in a 'cliff state' or a 'goal state'. Basically if on a cliff, every action returns to the start and if on the goal every action returns to the goal. Although, theoretically the agent shouldn't end up in these states, as the states next to a cliff return the agent to the start if the agent goes onto a cliff and the agent cannot move once on the goal, the value function makes more sense. Another way to have solved this problem would be to not iterate through the cliff states and goal state during policy iteration, but remove them from the value function basically. "
   ]
  },
  {
   "cell_type": "code",
   "execution_count": 5,
   "metadata": {},
   "outputs": [
    {
     "name": "stdout",
     "output_type": "stream",
     "text": [
      "level 1 value function\n",
      "Value function for k=1\n",
      " [[-10. -10. -10.  -9.  -9.  -9.]\n",
      " [-10. -10.  -9.  -9.  -8.  -8.]\n",
      " [-10. -10.  -9.  -9.  -7.  -5.]\n",
      " [-10.  -9.  -9.  -8.  -5.   0.]] \n",
      "\n",
      "Value function for k=2\n",
      " [[-5. -5. -4. -3. -3. -2.]\n",
      " [-5. -4. -3. -3. -2. -1.]\n",
      " [-4. -3. -3. -2. -1.  0.]\n",
      " [-3. -3. -2. -1.  0.  0.]] \n",
      "\n",
      "Value function for k=5\n",
      " [[-5. -5. -4. -3. -3. -2.]\n",
      " [-5. -4. -3. -3. -2. -1.]\n",
      " [-4. -3. -3. -2. -1.  0.]\n",
      " [-3. -3. -2. -1.  0.  0.]] \n",
      "\n",
      "Value function for k=10\n",
      " [[-5. -5. -4. -3. -3. -2.]\n",
      " [-5. -4. -3. -3. -2. -1.]\n",
      " [-4. -3. -3. -2. -1.  0.]\n",
      " [-3. -3. -2. -1.  0.  0.]] \n",
      "\n",
      "level 2 value function\n",
      "Value function for k=1\n",
      " [[ -52.  -54.  -55.  -52.  -46.  -39.]\n",
      " [ -68.  -75.  -78.  -74.  -64.  -45.]\n",
      " [-102. -130. -136. -133. -114.  -47.]\n",
      " [-150. -235. -235. -235. -235.    0.]] \n",
      "\n",
      "Value function for k=2\n",
      " [[ -10.  -10.  -10.  -10.  -10.  -10.]\n",
      " [ -10.  -10.  -10.  -10.  -10.  -10.]\n",
      " [ -10.  -10.  -10.  -10.   -1.    0.]\n",
      " [ -10. -109. -109. -109. -109.    0.]] \n",
      "\n",
      "Value function for k=5\n",
      " [[ -10.  -10.  -10.   -3.   -3.   -2.]\n",
      " [ -10.  -10.   -3.   -3.   -2.   -1.]\n",
      " [ -10.   -3.   -3.   -2.   -1.    0.]\n",
      " [ -10. -109. -109. -109. -109.    0.]] \n",
      "\n",
      "Value function for k=10\n",
      " [[  -5.   -5.   -4.   -3.   -3.   -2.]\n",
      " [  -5.   -4.   -3.   -3.   -2.   -1.]\n",
      " [  -4.   -3.   -3.   -2.   -1.    0.]\n",
      " [  -5. -104. -104. -104. -104.    0.]] \n",
      "\n",
      "level 3 value function\n",
      "Value function for k=1\n",
      " [[-32. -39. -33. -33. -33. -39.]\n",
      " [-31. -39. -35. -39. -35. -39.]\n",
      " [-30. -39. -35. -39. -33. -39.]\n",
      " [-27. -31. -32. -39. -23.   0.]] \n",
      "\n",
      "Value function for k=2\n",
      " [[-10. -19. -10. -10. -10. -19.]\n",
      " [-10. -19. -10. -19.  -2. -19.]\n",
      " [-10. -19. -10. -19.  -1. -19.]\n",
      " [-10. -10. -10. -19.   0.   0.]] \n",
      "\n",
      "Value function for k=5\n",
      " [[-10. -19.  -4.  -3.  -3. -19.]\n",
      " [-10. -19.  -5. -19.  -2. -19.]\n",
      " [-10. -19.  -5. -19.  -1. -19.]\n",
      " [-10.  -6.  -6. -19.   0.   0.]] \n",
      "\n",
      "Value function for k=10\n",
      " [[ -7. -17.  -4.  -3.  -3. -17.]\n",
      " [ -7. -17.  -5. -17.  -2. -17.]\n",
      " [ -7. -17.  -5. -17.  -1. -17.]\n",
      " [ -7.  -6.  -6. -17.   0.   0.]] \n",
      "\n"
     ]
    }
   ],
   "source": [
    "print('level 1 value function')\n",
    "level1_policy = policy_iteration(level1, max_iter=10)\n",
    "print('level 2 value function')\n",
    "level2_policy = policy_iteration(level2, max_iter=10)\n",
    "print('level 3 value function')\n",
    "level3_policy = policy_iteration(level3, max_iter=10)"
   ]
  },
  {
   "cell_type": "markdown",
   "metadata": {},
   "source": [
    "It can be seen that for the small, easier problems we have attempted, that the value functions converge quickly. Level 1 and 2 appear to have converged by k=5. Level 3 may or may not have fully converged by k=10 but a path can be seen."
   ]
  },
  {
   "cell_type": "code",
   "execution_count": 6,
   "metadata": {},
   "outputs": [
    {
     "name": "stdout",
     "output_type": "stream",
     "text": [
      "optimum level 1 path:\n",
      "array([ 0,  4,  8, 12, 16, 20, 21, 22, 23])\n",
      "\n",
      "optimum level 2 path:\n",
      "array([ 3,  2,  6, 10, 14, 18, 22, 23])\n",
      "\n",
      "optimum level 3 path:\n",
      "array([ 0,  1,  2,  3,  7, 11, 10,  9,  8, 12, 16, 17, 18, 19, 23])\n",
      "\n"
     ]
    }
   ],
   "source": [
    "level1_path = decode_policy(level1, level1_policy)[0]\n",
    "print('optimum %s path:\\n%s\\n' % (level1.name, repr(level1_path)))\n",
    "level2_path = decode_policy(level2, level2_policy)[0]\n",
    "print('optimum %s path:\\n%s\\n' % ('level 2', repr(level2_path)))\n",
    "level3_path = decode_policy(level3, level3_policy)[0]\n",
    "print('optimum %s path:\\n%s\\n' % ('level 3', repr(level3_path)))"
   ]
  },
  {
   "cell_type": "code",
   "execution_count": 7,
   "metadata": {},
   "outputs": [
    {
     "name": "stdout",
     "output_type": "stream",
     "text": [
      "Solution: level 1\n",
      "+-+-+-+-+-+-+\n",
      "|S|*|*|*|*|*|\n",
      "+-+-+-+-+-+-+\n",
      "| | | | | |*|\n",
      "+-+-+-+-+-+-+\n",
      "| | | | | |*|\n",
      "+-+-+-+-+-+-+\n",
      "| | | | | |G|\n",
      "+-+-+-+-+-+-+\n",
      "\n",
      "Solution: level 2\n",
      "+-+-+-+-+-+-+\n",
      "| | | | | | |\n",
      "+-+-+-+-+-+-+\n",
      "| | | | | | |\n",
      "+-+-+-+-+-+-+\n",
      "|*|*|*|*|*|*|\n",
      "+-+-+-+-+-+-+\n",
      "|S|X|X|X|X|G|\n",
      "+-+-+-+-+-+-+\n",
      "\n",
      "Solution: level 3\n",
      "+-+-+-+-+-+-+\n",
      "|S|X|*|*|*|X|\n",
      "+-+-+-+-+-+-+\n",
      "|*|X|*|X|*|X|\n",
      "+-+-+-+-+-+-+\n",
      "|*|X|*|X|*|X|\n",
      "+-+-+-+-+-+-+\n",
      "|*|*|*|X|*|G|\n",
      "+-+-+-+-+-+-+\n",
      "\n"
     ]
    }
   ],
   "source": [
    "print(level1.print_solution(level1_path))\n",
    "print(level2.print_solution(level2_path))\n",
    "print(level3.print_solution(level3_path))"
   ]
  },
  {
   "cell_type": "markdown",
   "metadata": {},
   "source": [
    "It can be seen above that an optimum path has been found for all 3 problems and in relatively short time. Although, this algorithm requires prior knowledge of the environment, below we will look at some algorithms that do not require full prior knowledge."
   ]
  },
  {
   "cell_type": "markdown",
   "metadata": {},
   "source": [
    "## 2. State-Action-Reward-State-Action (SARSA)\n",
    "Value iteration requires a complete knowledge of the problem and its dynamics (ie, the capacity to simulate any state). In any practical problem this is not the case. Consider a robot operating: It is limited to learning from the actual experiences it encounters, and can only speculate on what could have been. \n",
    "\n",
    "SARSA is a reinforcement algorithms that reformulates the Temporal Difference (TD) rule seen before to allow the learning of a value function for state-action pairs (ie, the value of an action in a given state) from limited experiences only.  \n",
    "In SARSA, the state-action value function $Q^{(t)}(S_t,A_t)$ is learnt by updating: \n",
    "$$\n",
    "\t\tQ^{(t+1)}(S_t, A_t) \\leftarrow Q^{(t)}(S_t,A_t) + \\alpha \\left[R_{t+1} + \\gamma Q^{(t)}(S_{t+1},A_{t+1}) - Q^{(t)}(S_t,A_t)\\right]   \n",
    "$$\n",
    "\n",
    "In this part, we will:\n",
    "\n",
    "a. Implement the SARSA algorithm, using an $\\epsilon$-greedy policy. \n",
    "<div style=\"text-align: right\">  \n",
    "    \n",
    "b. Produce a graph showing the performance of the agent in y-axis and the number of episodes in x-axis. \n",
    "<div style=\"text-align: right\">  \n",
    "\n",
    "b. C Finally, show the solution our algorithm has reached for different values of $\\epsilon$.\n",
    "<div style=\"text-align: right\">  "
   ]
  },
  {
   "cell_type": "code",
   "execution_count": 8,
   "metadata": {},
   "outputs": [],
   "source": [
    "def initialize_q(n_states, n_actions, dtype='ones'):\n",
    "\n",
    "    if dtype == 'ones':\n",
    "\n",
    "        return ones((n_states, n_actions))\n",
    "\n",
    "    elif dtype == 'random':\n",
    "\n",
    "        return ranf((n_states, n_actions))\n",
    "\n",
    "    elif dtype == 'zeros':\n",
    "\n",
    "        return zeros((n_states, n_actions))\n",
    "\n",
    "\n",
    "def policy_from_q(Q, epsilon, n_actions, s):\n",
    "    '''\n",
    "    Looks at the available actions in a given state and returns an action based\n",
    "    upon the policy (e.g. ε-greedy) and available information on the rewards\n",
    "    from the possible actions from the Q table\n",
    "    \n",
    "    Args:\n",
    "        Q         - array-like, shape[n_states, n_actions]\n",
    "        epsilon   - float, scalar over [0, 1)\n",
    "        n_actions - int, number of possible actions\n",
    "        s         - int, the current state of the agent\n",
    "        \n",
    "    Returns:\n",
    "        a         - int, the action to be taken\n",
    "    '''\n",
    "\n",
    "    if rand() > epsilon:\n",
    "        a = argmax(Q[s, :])\n",
    "    else:\n",
    "        a = randint(0, n_actions)\n",
    "    return a\n",
    "\n",
    "\n",
    "\n",
    "def sarsa(env, **kwargs):\n",
    "    \n",
    "    alpha = kwargs.get('alpha', 0.1)\n",
    "    gamma = kwargs.get('gamma', 0.9)\n",
    "    epsilon = kwargs.get('epsilon', 0.1)\n",
    "    n_episodes = kwargs.get('n_episodes', 100)\n",
    "    n_steps = kwargs.get('n_steps', Inf)\n",
    "    dtype = kwargs.get('dtype', 'ones')\n",
    "    verbose = kwargs.get('verbose', False)\n",
    "\n",
    "    Q = initialize_q(env.n_states, env.n_actions, dtype=dtype)\n",
    "\n",
    "    episode_rewards = []\n",
    "    \n",
    "    if verbose:\n",
    "        episode_range = tqdm(range(n_episodes))\n",
    "    else:\n",
    "        episode_range = range(n_episodes)\n",
    "\n",
    "    for episode in episode_range:\n",
    "        total_reward = 0\n",
    "        s = env.start\n",
    "        a = policy_from_q(Q, epsilon, env.n_actions, s)\n",
    "        t = 1\n",
    "\n",
    "        while t < n_steps + 1 and s != env.goal:\n",
    "            s_, r = env.state_action_state(s, a)[0]\n",
    "            a_ = policy_from_q(Q, epsilon, env.n_actions, s_)\n",
    "            Q[s, a] += alpha * (r + (gamma * Q[s_, a_] ) - Q[s, a])\n",
    "            total_reward += r\n",
    "            s, a = s_, a_\n",
    "            t += 1\n",
    "            \n",
    "        episode_rewards.append(total_reward)\n",
    "\n",
    "    return Q, episode_rewards"
   ]
  },
  {
   "cell_type": "code",
   "execution_count": 9,
   "metadata": {},
   "outputs": [],
   "source": [
    "def display_performance(n_episodes, performance, epsilons):\n",
    "    '''\n",
    "    just to plot some things\n",
    "    \n",
    "    '''\n",
    "    figure(figsize=(10, 10))\n",
    "    style.use('seaborn')\n",
    "    \n",
    "    for score, e, c in zip(performance, epsilons, ['m', 'c', 'b']):\n",
    "        plot(range(1, n_episodes + 1), score, c=c, alpha=0.7, label='$ε=%.0e$' % e)\n",
    "    xlabel('n_episodes', fontsize=14)\n",
    "    ylabel('reward', fontsize=14)\n",
    "    legend()\n",
    "    show()"
   ]
  },
  {
   "cell_type": "code",
   "execution_count": 10,
   "metadata": {},
   "outputs": [
    {
     "name": "stderr",
     "output_type": "stream",
     "text": [
      "100%|████████████████████████████████████████████████████████████████████████████████████| 3/3 [00:10<00:00,  3.40s/it]\n"
     ]
    },
    {
     "data": {
      "image/png": "[encoded data removed]",
      "text/plain": [
       "<Figure size 720x720 with 1 Axes>"
      ]
     },
     "metadata": {
      "needs_background": "light"
     },
     "output_type": "display_data"
    }
   ],
   "source": [
    "def performance_experiment(rl_algorithm, n_episodes, n_repetitions, epsilons, env):\n",
    "    \n",
    "    '''\n",
    "    Run an algorithm for multiple epsilon values. The algorithm is run n_repititions\n",
    "    times for each epsilon value in order to remove some of the noise \n",
    "    associated with the stocastic element of the alorithm.\n",
    "    \n",
    "    '''\n",
    "\n",
    "    performance = zeros((len(epsilons), n_episodes, n_repetitions)) # 3d array\n",
    "    for i in tqdm(range(len(epsilons))):\n",
    "        for j in range(n_repetitions):\n",
    "            performance[i, :, j] = rl_algorithm(env,\n",
    "                                                n_episodes=n_episodes,\n",
    "                                                epsilon=epsilons[i])[1]\n",
    "    performance = mean(performance, axis=2)  \n",
    "    display_performance(n_episodes, performance, epsilons)\n",
    "performance_experiment(sarsa, 250, 30, [0, 0.2, 0.5], level2)"
   ]
  },
  {
   "cell_type": "markdown",
   "metadata": {},
   "source": [
    "I performend 30 repetitions and averaged as this takes out some of the noise. There are 3 different values of epsilon which show that for this problem a greedy strategy produces better performance. The more exploration allowed the algorithm seems to converge on a less then optimum solution."
   ]
  },
  {
   "cell_type": "code",
   "execution_count": 14,
   "metadata": {},
   "outputs": [
    {
     "name": "stderr",
     "output_type": "stream",
     "text": [
      "100%|██████████████████████████████████████████████████████████████████████████| 10000/10000 [00:06<00:00, 1621.86it/s]\n"
     ]
    },
    {
     "name": "stdout",
     "output_type": "stream",
     "text": [
      "Solution: level 2\n",
      "+-+-+-+-+-+-+\n",
      "|*|*|*|*|*|*|\n",
      "+-+-+-+-+-+-+\n",
      "|*| | | | |*|\n",
      "+-+-+-+-+-+-+\n",
      "|*| | | | |*|\n",
      "+-+-+-+-+-+-+\n",
      "|S|X|X|X|X|G|\n",
      "+-+-+-+-+-+-+\n",
      "\n"
     ]
    }
   ],
   "source": [
    "Q = sarsa(level2, n_steps=Inf, n_episodes=10000, epsilon=0.5, verbose=True)[0]\n",
    "\n",
    "level2_path = decode_policy(level2, Q)[0]\n",
    "print(level2.print_solution(level2_path))"
   ]
  },
  {
   "cell_type": "code",
   "execution_count": 19,
   "metadata": {},
   "outputs": [
    {
     "name": "stderr",
     "output_type": "stream",
     "text": [
      "100%|██████████████████████████████████████████████████████████████████████████| 10000/10000 [00:02<00:00, 4120.62it/s]\n"
     ]
    },
    {
     "name": "stdout",
     "output_type": "stream",
     "text": [
      "Solution: level 2\n",
      "+-+-+-+-+-+-+\n",
      "| | | | | | |\n",
      "+-+-+-+-+-+-+\n",
      "|*|*|*|*|*| |\n",
      "+-+-+-+-+-+-+\n",
      "|*| | | |*|*|\n",
      "+-+-+-+-+-+-+\n",
      "|S|X|X|X|X|G|\n",
      "+-+-+-+-+-+-+\n",
      "\n"
     ]
    }
   ],
   "source": [
    "Q = sarsa(level2, n_steps=Inf, n_episodes=10000, epsilon=0.1, verbose=True)[0]\n",
    "\n",
    "level2_path = decode_policy(level2, Q)[0]\n",
    "print(level2.print_solution(level2_path))"
   ]
  },
  {
   "cell_type": "markdown",
   "metadata": {},
   "source": [
    "It can be seen that sarsa converges to a path which avoids being adjacent to the cliffs when some exploration is allowed.\n"
   ]
  },
  {
   "cell_type": "code",
   "execution_count": 20,
   "metadata": {},
   "outputs": [
    {
     "name": "stderr",
     "output_type": "stream",
     "text": [
      "100%|██████████████████████████████████████████████████████████████████████████| 10000/10000 [00:01<00:00, 6312.10it/s]\n"
     ]
    },
    {
     "name": "stdout",
     "output_type": "stream",
     "text": [
      "Solution: level 2\n",
      "+-+-+-+-+-+-+\n",
      "| | | | | | |\n",
      "+-+-+-+-+-+-+\n",
      "| | | | | | |\n",
      "+-+-+-+-+-+-+\n",
      "|*|*|*|*|*|*|\n",
      "+-+-+-+-+-+-+\n",
      "|S|X|X|X|X|G|\n",
      "+-+-+-+-+-+-+\n",
      "\n"
     ]
    }
   ],
   "source": [
    "Q = sarsa(level2, n_steps=Inf, n_episodes=10000, epsilon=0.0, verbose=True)[0]\n",
    "\n",
    "level2_path = decode_policy(level2, Q)[0]\n",
    "print(level2.print_solution(level2_path))"
   ]
  },
  {
   "cell_type": "markdown",
   "metadata": {},
   "source": [
    "Although, using a greedy strategy it seems to converge to the shortest/optimum route. \n",
    "\n",
    "The more exploration is allowed the 'safer' the resulting solution is.\n",
    "\n",
    "The more greedy the algorithm is the faster it seems to converge."
   ]
  },
  {
   "cell_type": "markdown",
   "metadata": {},
   "source": [
    "## 3. Q-learning \n",
    "SARSA is called an \"on-policy\" algorithm, because it makes assumptions on what the action that the policy will make at the next step to estimate $Q$. Therefore, the value function is dependent on the policy! \n",
    "$Q$-learning takes an alternative view, so-called \"off-policy\", where the value of a state-action pair is independent on the policy's actions, and is instead dependent on <i>the best possible course of action thereafter</i>. This is achieved by amending the update function: \n",
    "    $$\n",
    "\tQ^{(t+1)}(S_t,A_t)\\leftarrow Q^{(t)}(S_t,A_t)+\\alpha\\left[\n",
    "\tR_{t+1} + \\gamma \\max_a Q^{(t)}(S_{t+1},a)-Q(S_t,A_t)\n",
    "\t\\right]\n",
    "\t$$\n",
    "    \n",
    "In this part, we will:\n",
    "\n",
    "a. implement the off-policy Q-learning algorithm and use it to solve the problem. \n",
    "<div style=\"text-align: right\">\n",
    "\n",
    "b. Produce a graph showing the performance of the agent in y-axis and the number of episodes in x-axis. \n",
    "<div style=\"text-align: right\">\n",
    "\n",
    "c. Finally, show the solution our algorithm has reached for different values of $\\epsilon$.\n",
    "<div style=\"text-align: right\">\n"
   ]
  },
  {
   "cell_type": "markdown",
   "metadata": {},
   "source": [
    "Finally, compare the two algorithms on a number of gridworld configurations (see examples below, but generate a few of our own) and discuss the results. \n",
    "<div style=\"text-align: right\">"
   ]
  },
  {
   "cell_type": "code",
   "execution_count": 21,
   "metadata": {},
   "outputs": [],
   "source": [
    "def q_learning(env, **kwargs):\n",
    "\n",
    "    alpha = kwargs.get('alpha', 0.2)\n",
    "    gamma = kwargs.get('gamma', 0.9)\n",
    "    epsilon = kwargs.get('epsilon', 0.1)\n",
    "    n_episodes = kwargs.get('n_episodes', 100)\n",
    "    n_steps = kwargs.get('n_steps', Inf)\n",
    "    dtype = kwargs.get('dtype', 'ones')\n",
    "    verbose = kwargs.get('verbose', False)\n",
    "\n",
    "    Q = initialize_q(env.n_states, env.n_actions, dtype=dtype)\n",
    "\n",
    "    episode_rewards = []\n",
    "    \n",
    "    if verbose:\n",
    "        episode_range = tqdm(range(n_episodes))\n",
    "    else:\n",
    "        episode_range = range(n_episodes)\n",
    "\n",
    "    for episode in episode_range:\n",
    "        total_reward = 0\n",
    "        s = env.start\n",
    "        a = policy_from_q(Q, epsilon, env.n_actions, s)\n",
    "        t = 1\n",
    "\n",
    "        while t < n_steps + 1 and s != env.goal:\n",
    "            s_, r = env.state_action_state(s, a)[0]\n",
    "            Q[s, a] += alpha * (r + gamma * max(Q[s_]) - Q[s, a])\n",
    "            total_reward += r\n",
    "            s, a = s_, policy_from_q(Q, epsilon, env.n_actions, s_)\n",
    "            t += 1\n",
    "            \n",
    "        episode_rewards.append(total_reward)\n",
    "\n",
    "    return Q, episode_rewards"
   ]
  },
  {
   "cell_type": "code",
   "execution_count": 22,
   "metadata": {},
   "outputs": [
    {
     "name": "stdout",
     "output_type": "stream",
     "text": [
      "ε = 0.5\n",
      "Solution: level 2\n",
      "+-+-+-+-+-+-+\n",
      "| | | | | | |\n",
      "+-+-+-+-+-+-+\n",
      "| | | | | | |\n",
      "+-+-+-+-+-+-+\n",
      "|*|*|*|*|*|*|\n",
      "+-+-+-+-+-+-+\n",
      "|S|X|X|X|X|G|\n",
      "+-+-+-+-+-+-+\n",
      "\n"
     ]
    }
   ],
   "source": [
    "Q = q_learning(level2, n_steps=Inf, n_episodes=1000, epsilon=0.5)[0]\n",
    "\n",
    "level2_path = decode_policy(level2, Q)[0]\n",
    "print('ε = 0.5\\n%s' % level2.print_solution(level2_path))"
   ]
  },
  {
   "cell_type": "code",
   "execution_count": 23,
   "metadata": {},
   "outputs": [
    {
     "name": "stdout",
     "output_type": "stream",
     "text": [
      "ε = 0.25\n",
      "Solution: level 2\n",
      "+-+-+-+-+-+-+\n",
      "| | | | | | |\n",
      "+-+-+-+-+-+-+\n",
      "| | | | | | |\n",
      "+-+-+-+-+-+-+\n",
      "|*|*|*|*|*|*|\n",
      "+-+-+-+-+-+-+\n",
      "|S|X|X|X|X|G|\n",
      "+-+-+-+-+-+-+\n",
      "\n"
     ]
    }
   ],
   "source": [
    "Q = q_learning(level2, n_steps=Inf, n_episodes=200, epsilon=0.25)[0]\n",
    "\n",
    "level2_path = decode_policy(level2, Q)[0]\n",
    "print('ε = 0.25\\n%s' % level2.print_solution(level2_path))"
   ]
  },
  {
   "cell_type": "code",
   "execution_count": 24,
   "metadata": {},
   "outputs": [
    {
     "name": "stdout",
     "output_type": "stream",
     "text": [
      "ε = 0\n",
      "Solution: level 2\n",
      "+-+-+-+-+-+-+\n",
      "| | | | | | |\n",
      "+-+-+-+-+-+-+\n",
      "| | | | | | |\n",
      "+-+-+-+-+-+-+\n",
      "|*|*|*|*|*|*|\n",
      "+-+-+-+-+-+-+\n",
      "|S|X|X|X|X|G|\n",
      "+-+-+-+-+-+-+\n",
      "\n"
     ]
    }
   ],
   "source": [
    "Q = q_learning(level2, n_steps=Inf, n_episodes=200, epsilon=0)[0]\n",
    "\n",
    "level2_path = decode_policy(level2, Q)[0]\n",
    "print('ε = 0\\n%s' % level2.print_solution(level2_path))"
   ]
  },
  {
   "cell_type": "markdown",
   "metadata": {},
   "source": [
    "The q-learning algorithms seems to converge on the optimum/shortest route more often and for higher values of epsilon. It also seems to converge more rapidly."
   ]
  },
  {
   "cell_type": "code",
   "execution_count": 25,
   "metadata": {},
   "outputs": [
    {
     "name": "stderr",
     "output_type": "stream",
     "text": [
      "100%|████████████████████████████████████████████████████████████████████████████████████| 3/3 [00:09<00:00,  2.96s/it]\n"
     ]
    },
    {
     "data": {
      "image/png": "[encoded data removed]",
      "text/plain": [
       "<Figure size 720x720 with 1 Axes>"
      ]
     },
     "metadata": {},
     "output_type": "display_data"
    }
   ],
   "source": [
    "performance_experiment(q_learning, 250, 30, [0, 0.2, 0.5], level2)"
   ]
  },
  {
   "cell_type": "markdown",
   "metadata": {},
   "source": [
    "Comparing the above figure to that of sarsa, it can be seens that the Q learning algorithm achieves a lower reward when exploration is allowed, when epsilon is greater than zero."
   ]
  },
  {
   "cell_type": "code",
   "execution_count": 26,
   "metadata": {},
   "outputs": [
    {
     "name": "stdout",
     "output_type": "stream",
     "text": [
      "   Grid World:\n",
      "+-+-+-+-+-+-+-+-+-+-+\n",
      "|S| |X| | | | | | | |\n",
      "+-+-+-+-+-+-+-+-+-+-+\n",
      "| | |X| | | | | | | |\n",
      "+-+-+-+-+-+-+-+-+-+-+\n",
      "| | |X| | | | | | | |\n",
      "+-+-+-+-+-+-+-+-+-+-+\n",
      "| | |X| | | | | | | |\n",
      "+-+-+-+-+-+-+-+-+-+-+\n",
      "| | |X| | | | | | | |\n",
      "+-+-+-+-+-+-+-+-+-+-+\n",
      "| | |X| | | |X| | | |\n",
      "+-+-+-+-+-+-+-+-+-+-+\n",
      "| | | | | | |X| | | |\n",
      "+-+-+-+-+-+-+-+-+-+-+\n",
      "| | | | | | |X| | | |\n",
      "+-+-+-+-+-+-+-+-+-+-+\n",
      "| | | | | | |X| | | |\n",
      "+-+-+-+-+-+-+-+-+-+-+\n",
      "| | | | | | |X| | |G|\n",
      "+-+-+-+-+-+-+-+-+-+-+\n",
      "\n",
      "   Grid World:\n",
      "+-+-+-+-+-+-+-+-+-+-+\n",
      "|S| | | | | | | | | |\n",
      "+-+-+-+-+-+-+-+-+-+-+\n",
      "| | | | | | | | | | |\n",
      "+-+-+-+-+-+-+-+-+-+-+\n",
      "| | | | | | | | | | |\n",
      "+-+-+-+-+-+-+-+-+-+-+\n",
      "| | | |X|X|X|X| | | |\n",
      "+-+-+-+-+-+-+-+-+-+-+\n",
      "| | | |X|X|X|X| | | |\n",
      "+-+-+-+-+-+-+-+-+-+-+\n",
      "| | | |X|X|X|X| | | |\n",
      "+-+-+-+-+-+-+-+-+-+-+\n",
      "| | | |X|X|X|X| | | |\n",
      "+-+-+-+-+-+-+-+-+-+-+\n",
      "| | | | | | | | | | |\n",
      "+-+-+-+-+-+-+-+-+-+-+\n",
      "| | | | | | | | | | |\n",
      "+-+-+-+-+-+-+-+-+-+-+\n",
      "| | | | | | | | | |G|\n",
      "+-+-+-+-+-+-+-+-+-+-+\n",
      "\n"
     ]
    }
   ],
   "source": [
    "world1 = GridWorld(10,10, gamma=0.9, start=[0,0], goal=[9,9], cliff=[[2,0], [2,1], [2,2], [2,3], [2,4], [2,5], [6,5], [6,6], [6,7],[6,8],[6,9]])\n",
    "print(world1.tostring())\n",
    "\n",
    "cliff = [ [i,j] for i in range(3,7) for j in range(3,7) ]\n",
    "       \n",
    "world2 = GridWorld(10,10, gamma=0.9, start=[0,0], goal=[9,9], cliff=cliff)\n",
    "print(world2.tostring())"
   ]
  },
  {
   "cell_type": "code",
   "execution_count": 30,
   "metadata": {},
   "outputs": [
    {
     "name": "stderr",
     "output_type": "stream",
     "text": [
      "100%|██████████████████████████████████████████████████████████████████████████| 10000/10000 [00:03<00:00, 2502.75it/s]\n"
     ]
    },
    {
     "name": "stdout",
     "output_type": "stream",
     "text": [
      "Solution: Grid World\n",
      "+-+-+-+-+-+-+-+-+-+-+\n",
      "|S| |X| | | | | | | |\n",
      "+-+-+-+-+-+-+-+-+-+-+\n",
      "|*| |X| | | | | | | |\n",
      "+-+-+-+-+-+-+-+-+-+-+\n",
      "|*| |X| | | | | | | |\n",
      "+-+-+-+-+-+-+-+-+-+-+\n",
      "|*| |X| |*|*|*|*| | |\n",
      "+-+-+-+-+-+-+-+-+-+-+\n",
      "|*| |X| |*| | |*|*| |\n",
      "+-+-+-+-+-+-+-+-+-+-+\n",
      "|*| |X| |*| |X| |*| |\n",
      "+-+-+-+-+-+-+-+-+-+-+\n",
      "|*|*| |*|*| |X| |*| |\n",
      "+-+-+-+-+-+-+-+-+-+-+\n",
      "| |*|*|*| | |X| |*|*|\n",
      "+-+-+-+-+-+-+-+-+-+-+\n",
      "| | | | | | |X| | |*|\n",
      "+-+-+-+-+-+-+-+-+-+-+\n",
      "| | | | | | |X| | |G|\n",
      "+-+-+-+-+-+-+-+-+-+-+\n",
      "\n"
     ]
    }
   ],
   "source": [
    "Q = sarsa(world1, n_steps=Inf, n_episodes=10000, epsilon=0.1, alpha=0.1, verbose=True)[0]\n",
    "\n",
    "\n",
    "world1_solution = decode_policy(world1, Q)[0]\n",
    "print(world1.print_solution(world1_solution))"
   ]
  },
  {
   "cell_type": "code",
   "execution_count": 37,
   "metadata": {},
   "outputs": [
    {
     "name": "stderr",
     "output_type": "stream",
     "text": [
      "100%|██████████████████████████████████████████████████████████████████████████| 10000/10000 [00:02<00:00, 3734.78it/s]\n"
     ]
    },
    {
     "name": "stdout",
     "output_type": "stream",
     "text": [
      "Solution: Grid World\n",
      "+-+-+-+-+-+-+-+-+-+-+\n",
      "|S|*|X| | | | | | | |\n",
      "+-+-+-+-+-+-+-+-+-+-+\n",
      "| |*|X| | | | | | | |\n",
      "+-+-+-+-+-+-+-+-+-+-+\n",
      "| |*|X| | | | | | | |\n",
      "+-+-+-+-+-+-+-+-+-+-+\n",
      "| |*|X| | | | | | | |\n",
      "+-+-+-+-+-+-+-+-+-+-+\n",
      "| |*|X|*|*|*|*|*|*|*|\n",
      "+-+-+-+-+-+-+-+-+-+-+\n",
      "| |*|X|*| | |X| | |*|\n",
      "+-+-+-+-+-+-+-+-+-+-+\n",
      "| |*|*|*| | |X| | |*|\n",
      "+-+-+-+-+-+-+-+-+-+-+\n",
      "| | | | | | |X| | |*|\n",
      "+-+-+-+-+-+-+-+-+-+-+\n",
      "| | | | | | |X| | |*|\n",
      "+-+-+-+-+-+-+-+-+-+-+\n",
      "| | | | | | |X| | |G|\n",
      "+-+-+-+-+-+-+-+-+-+-+\n",
      "\n"
     ]
    }
   ],
   "source": [
    "Q = sarsa(world1, n_steps=Inf, n_episodes=10000, epsilon=0, alpha=0.1, verbose=True)[0]\n",
    "\n",
    "\n",
    "world1_solution = decode_policy(world1, Q)[0]\n",
    "print(world1.print_solution(world1_solution))"
   ]
  },
  {
   "cell_type": "code",
   "execution_count": 32,
   "metadata": {},
   "outputs": [
    {
     "name": "stderr",
     "output_type": "stream",
     "text": [
      "100%|██████████████████████████████████████████████████████████████████████████| 10000/10000 [00:03<00:00, 2700.18it/s]\n"
     ]
    },
    {
     "name": "stdout",
     "output_type": "stream",
     "text": [
      "Solution: Grid World\n",
      "+-+-+-+-+-+-+-+-+-+-+\n",
      "|S|*|X| | | | | | | |\n",
      "+-+-+-+-+-+-+-+-+-+-+\n",
      "| |*|X| | | | | | | |\n",
      "+-+-+-+-+-+-+-+-+-+-+\n",
      "| |*|X| | | | | | | |\n",
      "+-+-+-+-+-+-+-+-+-+-+\n",
      "| |*|X| | | | | | | |\n",
      "+-+-+-+-+-+-+-+-+-+-+\n",
      "| |*|X|*|*|*|*|*|*|*|\n",
      "+-+-+-+-+-+-+-+-+-+-+\n",
      "| |*|X|*| | |X| | |*|\n",
      "+-+-+-+-+-+-+-+-+-+-+\n",
      "| |*|*|*| | |X| | |*|\n",
      "+-+-+-+-+-+-+-+-+-+-+\n",
      "| | | | | | |X| | |*|\n",
      "+-+-+-+-+-+-+-+-+-+-+\n",
      "| | | | | | |X| | |*|\n",
      "+-+-+-+-+-+-+-+-+-+-+\n",
      "| | | | | | |X| | |G|\n",
      "+-+-+-+-+-+-+-+-+-+-+\n",
      "\n"
     ]
    }
   ],
   "source": [
    "Q = q_learning(world1, n_steps=Inf, n_episodes=10000, epsilon=0.1, alpha=0.1, verbose=True)[0]\n",
    "\n",
    "\n",
    "world1_solution = decode_policy(world1, Q)[0]\n",
    "print(world1.print_solution(world1_solution))"
   ]
  },
  {
   "cell_type": "code",
   "execution_count": 35,
   "metadata": {},
   "outputs": [
    {
     "name": "stderr",
     "output_type": "stream",
     "text": [
      "100%|██████████████████████████████████████████████████████████████████████████| 10000/10000 [00:02<00:00, 4142.19it/s]\n"
     ]
    },
    {
     "name": "stdout",
     "output_type": "stream",
     "text": [
      "Solution: Grid World\n",
      "+-+-+-+-+-+-+-+-+-+-+\n",
      "|S| | | | | | | | | |\n",
      "+-+-+-+-+-+-+-+-+-+-+\n",
      "|*| | | | | | | | | |\n",
      "+-+-+-+-+-+-+-+-+-+-+\n",
      "|*| | | | | | | | | |\n",
      "+-+-+-+-+-+-+-+-+-+-+\n",
      "|*| | |X|X|X|X| | | |\n",
      "+-+-+-+-+-+-+-+-+-+-+\n",
      "|*| | |X|X|X|X| | | |\n",
      "+-+-+-+-+-+-+-+-+-+-+\n",
      "|*|*| |X|X|X|X| | | |\n",
      "+-+-+-+-+-+-+-+-+-+-+\n",
      "| |*| |X|X|X|X| | | |\n",
      "+-+-+-+-+-+-+-+-+-+-+\n",
      "| |*|*| | | | | | | |\n",
      "+-+-+-+-+-+-+-+-+-+-+\n",
      "| | |*|*|*|*|*| | | |\n",
      "+-+-+-+-+-+-+-+-+-+-+\n",
      "| | | | | | |*|*|*|G|\n",
      "+-+-+-+-+-+-+-+-+-+-+\n",
      "\n"
     ]
    }
   ],
   "source": [
    "Q = sarsa(world2, n_steps=Inf, n_episodes=10000, epsilon=0.1, alpha=0.1, verbose=True)[0]\n",
    "\n",
    "\n",
    "world2_solution = decode_policy(world2, Q)[0]\n",
    "print(world2.print_solution(world2_solution))"
   ]
  },
  {
   "cell_type": "code",
   "execution_count": 38,
   "metadata": {},
   "outputs": [
    {
     "name": "stderr",
     "output_type": "stream",
     "text": [
      "100%|██████████████████████████████████████████████████████████████████████████| 10000/10000 [00:02<00:00, 4510.73it/s]\n"
     ]
    },
    {
     "name": "stdout",
     "output_type": "stream",
     "text": [
      "Solution: Grid World\n",
      "+-+-+-+-+-+-+-+-+-+-+\n",
      "|S|*|*|*|*|*|*|*|*|*|\n",
      "+-+-+-+-+-+-+-+-+-+-+\n",
      "| | | | | | | | | |*|\n",
      "+-+-+-+-+-+-+-+-+-+-+\n",
      "| | | | | | | | | |*|\n",
      "+-+-+-+-+-+-+-+-+-+-+\n",
      "| | | |X|X|X|X| | |*|\n",
      "+-+-+-+-+-+-+-+-+-+-+\n",
      "| | | |X|X|X|X| | |*|\n",
      "+-+-+-+-+-+-+-+-+-+-+\n",
      "| | | |X|X|X|X| | |*|\n",
      "+-+-+-+-+-+-+-+-+-+-+\n",
      "| | | |X|X|X|X| | |*|\n",
      "+-+-+-+-+-+-+-+-+-+-+\n",
      "| | | | | | | | | |*|\n",
      "+-+-+-+-+-+-+-+-+-+-+\n",
      "| | | | | | | | | |*|\n",
      "+-+-+-+-+-+-+-+-+-+-+\n",
      "| | | | | | | | | |G|\n",
      "+-+-+-+-+-+-+-+-+-+-+\n",
      "\n"
     ]
    }
   ],
   "source": [
    "Q = sarsa(world2, n_steps=Inf, n_episodes=10000, epsilon=0, alpha=0.1, verbose=True)[0]\n",
    "\n",
    "\n",
    "world2_solution = decode_policy(world2, Q)[0]\n",
    "print(world2.print_solution(world2_solution))"
   ]
  },
  {
   "cell_type": "code",
   "execution_count": 36,
   "metadata": {},
   "outputs": [
    {
     "name": "stderr",
     "output_type": "stream",
     "text": [
      "100%|██████████████████████████████████████████████████████████████████████████| 10000/10000 [00:02<00:00, 3342.89it/s]\n"
     ]
    },
    {
     "name": "stdout",
     "output_type": "stream",
     "text": [
      "Solution: Grid World\n",
      "+-+-+-+-+-+-+-+-+-+-+\n",
      "|S|*|*|*|*|*|*|*|*|*|\n",
      "+-+-+-+-+-+-+-+-+-+-+\n",
      "| | | | | | | | | |*|\n",
      "+-+-+-+-+-+-+-+-+-+-+\n",
      "| | | | | | | | | |*|\n",
      "+-+-+-+-+-+-+-+-+-+-+\n",
      "| | | |X|X|X|X| | |*|\n",
      "+-+-+-+-+-+-+-+-+-+-+\n",
      "| | | |X|X|X|X| | |*|\n",
      "+-+-+-+-+-+-+-+-+-+-+\n",
      "| | | |X|X|X|X| | |*|\n",
      "+-+-+-+-+-+-+-+-+-+-+\n",
      "| | | |X|X|X|X| | |*|\n",
      "+-+-+-+-+-+-+-+-+-+-+\n",
      "| | | | | | | | | |*|\n",
      "+-+-+-+-+-+-+-+-+-+-+\n",
      "| | | | | | | | | |*|\n",
      "+-+-+-+-+-+-+-+-+-+-+\n",
      "| | | | | | | | | |G|\n",
      "+-+-+-+-+-+-+-+-+-+-+\n",
      "\n"
     ]
    }
   ],
   "source": [
    "Q = q_learning(world2, n_steps=Inf, n_episodes=10000, epsilon=0.1, alpha=0.1, verbose=True)[0]\n",
    "\n",
    "\n",
    "world2_solution = decode_policy(world2, Q)[0]\n",
    "print(world2.print_solution(world2_solution))"
   ]
  },
  {
   "cell_type": "markdown",
   "metadata": {},
   "source": [
    "It can be seen that, with more exploration allowed, sarsa will converge to a 'safer' route which may also be a longer route. Q learning seems to always converge to the shortest route. If we use sarsa with a low value of epsilon, with minimal exploration, it behaves like q learning and returns the shortest route."
   ]
  },
  {
   "cell_type": "code",
   "execution_count": 23,
   "metadata": {},
   "outputs": [
    {
     "name": "stdout",
     "output_type": "stream",
     "text": [
      "   level4:\n",
      "+-+-+-+-+-+-+-+-+-+\n",
      "|G| | | | | | | | |\n",
      "+-+-+-+-+-+-+-+-+-+\n",
      "| | |X|X|X|X|X|X| |\n",
      "+-+-+-+-+-+-+-+-+-+\n",
      "| | |X| | | | |X| |\n",
      "+-+-+-+-+-+-+-+-+-+\n",
      "| | |X| |X|X| |X| |\n",
      "+-+-+-+-+-+-+-+-+-+\n",
      "| | |X| |S|X| |X| |\n",
      "+-+-+-+-+-+-+-+-+-+\n",
      "| | |X|X|X|X| |X| |\n",
      "+-+-+-+-+-+-+-+-+-+\n",
      "| | | | | | | |X| |\n",
      "+-+-+-+-+-+-+-+-+-+\n",
      "|X|X|X|X|X|X|X|X| |\n",
      "+-+-+-+-+-+-+-+-+-+\n",
      "| | | | | | | | | |\n",
      "+-+-+-+-+-+-+-+-+-+\n",
      "\n"
     ]
    }
   ],
   "source": [
    "from itertools import cycle\n",
    "\n",
    "centre = array([4, 3])\n",
    "\n",
    "cliffs = [centre.tolist()]\n",
    "\n",
    "up, right, down, left = level1.delta\n",
    "\n",
    "spiral = cycle([up, right, down, left])\n",
    "\n",
    "for i in range(8):\n",
    "    spiral_arm = spiral.__next__()\n",
    "    for j in range(i):\n",
    "        centre += spiral_arm\n",
    "        cliffs.append(centre.tolist())\n",
    "\n",
    "level4 = GridWorld(9, 9, gamma=0.9, start=[4, 4], goal=[0, 0], \n",
    "                   cliff=cliffs, name='level4')\n",
    "\n",
    "\n",
    "print(level4.tostring())"
   ]
  },
  {
   "cell_type": "code",
   "execution_count": 24,
   "metadata": {},
   "outputs": [
    {
     "name": "stderr",
     "output_type": "stream",
     "text": [
      "100%|██████████████████████████████████████████████████████████████████████████| 10000/10000 [00:05<00:00, 1837.94it/s]\n"
     ]
    },
    {
     "name": "stdout",
     "output_type": "stream",
     "text": [
      "Solution: level4\n",
      "+-+-+-+-+-+-+-+-+-+\n",
      "|G|*| | | | | | | |\n",
      "+-+-+-+-+-+-+-+-+-+\n",
      "| |*|X|X|X|X|X|X| |\n",
      "+-+-+-+-+-+-+-+-+-+\n",
      "| |*|X|*|*|*|*|X| |\n",
      "+-+-+-+-+-+-+-+-+-+\n",
      "| |*|X|*|X|X|*|X| |\n",
      "+-+-+-+-+-+-+-+-+-+\n",
      "| |*|X|*|S|X|*|X| |\n",
      "+-+-+-+-+-+-+-+-+-+\n",
      "| |*|X|X|X|X|*|X| |\n",
      "+-+-+-+-+-+-+-+-+-+\n",
      "| |*|*|*|*|*|*|X| |\n",
      "+-+-+-+-+-+-+-+-+-+\n",
      "|X|X|X|X|X|X|X|X| |\n",
      "+-+-+-+-+-+-+-+-+-+\n",
      "| | | | | | | | | |\n",
      "+-+-+-+-+-+-+-+-+-+\n",
      "\n"
     ]
    }
   ],
   "source": [
    "Q = sarsa(level4, n_steps=Inf, n_episodes=10000, epsilon=0.0, alpha=0.1, verbose=True)[0]\n",
    "\n",
    "level4_solution = decode_policy(level4, Q)[0]\n",
    "print(level4.print_solution(level4_solution))"
   ]
  },
  {
   "cell_type": "code",
   "execution_count": 25,
   "metadata": {},
   "outputs": [
    {
     "name": "stderr",
     "output_type": "stream",
     "text": [
      "100%|███████████████████████████████████████████████████████████████████████████| 10000/10000 [00:19<00:00, 512.50it/s]\n"
     ]
    },
    {
     "name": "stdout",
     "output_type": "stream",
     "text": [
      "Solution: level4\n",
      "+-+-+-+-+-+-+-+-+-+\n",
      "|G|*| | | | | | | |\n",
      "+-+-+-+-+-+-+-+-+-+\n",
      "| |*|X|X|X|X|X|X| |\n",
      "+-+-+-+-+-+-+-+-+-+\n",
      "| |*|X|*|*|*|*|X| |\n",
      "+-+-+-+-+-+-+-+-+-+\n",
      "| |*|X|*|X|X|*|X| |\n",
      "+-+-+-+-+-+-+-+-+-+\n",
      "| |*|X|*|S|X|*|X| |\n",
      "+-+-+-+-+-+-+-+-+-+\n",
      "| |*|X|X|X|X|*|X| |\n",
      "+-+-+-+-+-+-+-+-+-+\n",
      "| |*|*|*|*|*|*|X| |\n",
      "+-+-+-+-+-+-+-+-+-+\n",
      "|X|X|X|X|X|X|X|X| |\n",
      "+-+-+-+-+-+-+-+-+-+\n",
      "| | | | | | | | | |\n",
      "+-+-+-+-+-+-+-+-+-+\n",
      "\n"
     ]
    }
   ],
   "source": [
    "Q = q_learning(level4, n_steps=Inf, n_episodes=10000, epsilon=0.2, alpha=0.1, verbose=True)[0]\n",
    "\n",
    "level4_solution = decode_policy(level4, Q)[0]\n",
    "print(level4.print_solution(level4_solution))"
   ]
  },
  {
   "cell_type": "markdown",
   "metadata": {},
   "source": [
    "Both algorithms take much longer to find the goal when they are surrounded by cliffs."
   ]
  },
  {
   "cell_type": "code",
   "execution_count": 45,
   "metadata": {},
   "outputs": [
    {
     "name": "stdout",
     "output_type": "stream",
     "text": [
      "   Grid World:\n",
      "+-+-+-+-+-+-+-+-+-+-+-+-+-+\n",
      "|S| | | | | |X| | | | | | |\n",
      "+-+-+-+-+-+-+-+-+-+-+-+-+-+\n",
      "| | | | | | | | |X| | | | |\n",
      "+-+-+-+-+-+-+-+-+-+-+-+-+-+\n",
      "| | | | | | |X| |X| | | | |\n",
      "+-+-+-+-+-+-+-+-+-+-+-+-+-+\n",
      "| | | | | | |X| | | | | | |\n",
      "+-+-+-+-+-+-+-+-+-+-+-+-+-+\n",
      "| | | | | | |X| | | | | |G|\n",
      "+-+-+-+-+-+-+-+-+-+-+-+-+-+\n",
      "| | | | | | |X| | | | | | |\n",
      "+-+-+-+-+-+-+-+-+-+-+-+-+-+\n",
      "| | | | | | |X| | | | | | |\n",
      "+-+-+-+-+-+-+-+-+-+-+-+-+-+\n",
      "| | | | | | |X| | | | | | |\n",
      "+-+-+-+-+-+-+-+-+-+-+-+-+-+\n",
      "| | | | | | |X| | | | | | |\n",
      "+-+-+-+-+-+-+-+-+-+-+-+-+-+\n",
      "| | | | | | | | | | | | | |\n",
      "+-+-+-+-+-+-+-+-+-+-+-+-+-+\n",
      "| | | | | | | | | | | | | |\n",
      "+-+-+-+-+-+-+-+-+-+-+-+-+-+\n",
      "| | | | | | | | | | | | | |\n",
      "+-+-+-+-+-+-+-+-+-+-+-+-+-+\n",
      "| | | | | | | | | | | | | |\n",
      "+-+-+-+-+-+-+-+-+-+-+-+-+-+\n",
      "\n"
     ]
    }
   ],
   "source": [
    "level5 = GridWorld(13, 13, gamma=0.9, start=[0, 0], goal=[12, 4], \n",
    "                   cliff=[[6, 0], [8, 1], [8, 2], [6, 2], [6, 3],\n",
    "                          [6, 4], [6, 5], [6, 6], [6, 7], [6, 8]])\n",
    "\n",
    "print(level5.tostring())"
   ]
  },
  {
   "cell_type": "code",
   "execution_count": 69,
   "metadata": {},
   "outputs": [
    {
     "name": "stderr",
     "output_type": "stream",
     "text": [
      "100%|██████████████████████████████████████████████████████████████████████████| 10000/10000 [00:09<00:00, 1105.69it/s]\n"
     ]
    },
    {
     "name": "stdout",
     "output_type": "stream",
     "text": [
      "Solution: Grid World\n",
      "+-+-+-+-+-+-+-+-+-+-+-+-+-+\n",
      "|S| | | | | |X| | | | | | |\n",
      "+-+-+-+-+-+-+-+-+-+-+-+-+-+\n",
      "|*| | | | | | | |X| | | | |\n",
      "+-+-+-+-+-+-+-+-+-+-+-+-+-+\n",
      "|*| | | | | |X| |X| | | | |\n",
      "+-+-+-+-+-+-+-+-+-+-+-+-+-+\n",
      "|*|*| | | | |X| | | | | | |\n",
      "+-+-+-+-+-+-+-+-+-+-+-+-+-+\n",
      "| |*|*| | | |X| | | | | |G|\n",
      "+-+-+-+-+-+-+-+-+-+-+-+-+-+\n",
      "| | |*|*| | |X| | | |*|*|*|\n",
      "+-+-+-+-+-+-+-+-+-+-+-+-+-+\n",
      "| | | |*| | |X| | | |*| | |\n",
      "+-+-+-+-+-+-+-+-+-+-+-+-+-+\n",
      "| | | |*| | |X| | | |*| | |\n",
      "+-+-+-+-+-+-+-+-+-+-+-+-+-+\n",
      "| | | |*| | |X| | | |*| | |\n",
      "+-+-+-+-+-+-+-+-+-+-+-+-+-+\n",
      "| | | |*| | | | |*|*|*| | |\n",
      "+-+-+-+-+-+-+-+-+-+-+-+-+-+\n",
      "| | | |*|*|*|*|*|*| | | | |\n",
      "+-+-+-+-+-+-+-+-+-+-+-+-+-+\n",
      "| | | | | | | | | | | | | |\n",
      "+-+-+-+-+-+-+-+-+-+-+-+-+-+\n",
      "| | | | | | | | | | | | | |\n",
      "+-+-+-+-+-+-+-+-+-+-+-+-+-+\n",
      "\n"
     ]
    }
   ],
   "source": [
    "Q = sarsa(level5, n_steps=Inf, n_episodes=10000, epsilon=0.1, alpha=0.1, verbose=True)[0]\n",
    "\n",
    "\n",
    "level5_solution = decode_policy(level5, Q)[0]\n",
    "print(level5.print_solution(level5_solution))"
   ]
  },
  {
   "cell_type": "code",
   "execution_count": 68,
   "metadata": {},
   "outputs": [
    {
     "name": "stderr",
     "output_type": "stream",
     "text": [
      "100%|██████████████████████████████████████████████████████████████████████████| 10000/10000 [00:06<00:00, 1464.19it/s]\n"
     ]
    },
    {
     "name": "stdout",
     "output_type": "stream",
     "text": [
      "Solution: Grid World\n",
      "+-+-+-+-+-+-+-+-+-+-+-+-+-+\n",
      "|S|*|*|*|*|*|X| | | | | | |\n",
      "+-+-+-+-+-+-+-+-+-+-+-+-+-+\n",
      "| | | | | |*|*|*|X| | | | |\n",
      "+-+-+-+-+-+-+-+-+-+-+-+-+-+\n",
      "| | | | | | |X|*|X| | | | |\n",
      "+-+-+-+-+-+-+-+-+-+-+-+-+-+\n",
      "| | | | | | |X|*|*|*|*|*|*|\n",
      "+-+-+-+-+-+-+-+-+-+-+-+-+-+\n",
      "| | | | | | |X| | | | | |G|\n",
      "+-+-+-+-+-+-+-+-+-+-+-+-+-+\n",
      "| | | | | | |X| | | | | | |\n",
      "+-+-+-+-+-+-+-+-+-+-+-+-+-+\n",
      "| | | | | | |X| | | | | | |\n",
      "+-+-+-+-+-+-+-+-+-+-+-+-+-+\n",
      "| | | | | | |X| | | | | | |\n",
      "+-+-+-+-+-+-+-+-+-+-+-+-+-+\n",
      "| | | | | | |X| | | | | | |\n",
      "+-+-+-+-+-+-+-+-+-+-+-+-+-+\n",
      "| | | | | | | | | | | | | |\n",
      "+-+-+-+-+-+-+-+-+-+-+-+-+-+\n",
      "| | | | | | | | | | | | | |\n",
      "+-+-+-+-+-+-+-+-+-+-+-+-+-+\n",
      "| | | | | | | | | | | | | |\n",
      "+-+-+-+-+-+-+-+-+-+-+-+-+-+\n",
      "| | | | | | | | | | | | | |\n",
      "+-+-+-+-+-+-+-+-+-+-+-+-+-+\n",
      "\n"
     ]
    }
   ],
   "source": [
    "Q = q_learning(level5, n_steps=Inf, n_episodes=10000, epsilon=0.1, alpha=0.1, verbose=True)[0]\n",
    "\n",
    "\n",
    "level5_solution = decode_policy(level5, Q)[0]\n",
    "print(level5.print_solution(level5_solution))"
   ]
  },
  {
   "cell_type": "markdown",
   "metadata": {},
   "source": [
    "The additional test problem support the earlier conclusion."
   ]
  },
  {
   "cell_type": "markdown",
   "metadata": {},
   "source": [
    "When considering sarsa and Q learning with non-zero epsilon, it can be said that sarsa is more likely to achieve a higher reward as it tends towards a safer route. Therefore, there is less chance for it to fall down a cliff during exploration than Q learning."
   ]
  }
 ],
 "metadata": {
  "anaconda-cloud": {},
  "kernelspec": {
   "display_name": "Python 3",
   "language": "python",
   "name": "python3"
  },
  "language_info": {
   "codemirror_mode": {
    "name": "ipython",
    "version": 3
   },
   "file_extension": ".py",
   "mimetype": "text/x-python",
   "name": "python",
   "nbconvert_exporter": "python",
   "pygments_lexer": "ipython3",
   "version": "3.7.6"
  }
 },
 "nbformat": 4,
 "nbformat_minor": 4
}
